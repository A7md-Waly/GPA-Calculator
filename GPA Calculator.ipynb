{
 "cells": [
  {
   "cell_type": "code",
   "execution_count": null,
   "id": "6e68a937",
   "metadata": {},
   "outputs": [],
   "source": [
    "grades = {'A+': 4, 'A': 3.7, 'B+': 3.3, 'B': 3, 'C+': 2.7, 'C': 2.4, 'D+': 2, 'D': 1.7, 'F': 0}"
   ]
  },
  {
   "cell_type": "code",
   "execution_count": null,
   "id": "dfea630b",
   "metadata": {},
   "outputs": [],
   "source": [
    "def calculate_total_gpa(previous_gpa, previous_semesters, current_gpa, current_semesters):\n",
    "    total_gpa = (previous_gpa * previous_semesters + current_gpa) / current_semesters\n",
    "    return round(total_gpa, 3)"
   ]
  },
  {
   "cell_type": "code",
   "execution_count": null,
   "id": "778c4f2f",
   "metadata": {},
   "outputs": [],
   "source": [
    "def calculate_current_semester_gpa():\n",
    "    total_points = 0\n",
    "    total_hours = 0\n",
    "    has_failed = False\n",
    "    subject_number = 1\n",
    "\n",
    "    while True:\n",
    "        grade = input(f\"Enter letter grade for subject {subject_number} (A+, A, B+, B, C+, C, D+, D, F): \")\n",
    "        if not grade:\n",
    "            break\n",
    "        grade = grade.upper()\n",
    "        hours = int(input(f\"Enter the number of hours for subject {subject_number}: \"))\n",
    "        total_points += grades.get(grade, 0) * hours\n",
    "        total_hours += hours\n",
    "        if grade == 'F':\n",
    "            has_failed = True\n",
    "\n",
    "        stop = input(\"Do you want to stop entering subjects? (y/n): \")\n",
    "        if stop.lower() == 'y':\n",
    "            break\n",
    "\n",
    "        subject_number += 1\n",
    "\n",
    "    if total_hours == 0:\n",
    "        print(\"You did not enter any subjects.\")\n",
    "    else:\n",
    "        current_gpa = total_points / total_hours\n",
    "        if has_failed:\n",
    "            print(f\"Sorry, you have failed one or more subjects. Your GPA is: {round(current_gpa, 2)}\")\n",
    "        else:\n",
    "            print(f\"Your GPA for the current semester is: {round(current_gpa, 2)}\")"
   ]
  },
  {
   "cell_type": "code",
   "execution_count": null,
   "id": "9ad357bc",
   "metadata": {},
   "outputs": [],
   "source": [
    "def calculate_total_semesters_gpa():\n",
    "    current_gpa = float(input(\"Enter the GPA for the current semester: \"))\n",
    "    previous_gpa = float(input(\"Enter the total previous GPA: \"))\n",
    "    previous_semesters = int(input(\"Enter the number of previous semesters: \"))\n",
    "    num_semesters = previous_semesters + 1\n",
    "    total_gpa = calculate_total_gpa(previous_gpa, previous_semesters, current_gpa, num_semesters)\n",
    "\n",
    "    print(f\"Your GPA over {num_semesters} semesters is: {total_gpa}\")"
   ]
  },
  {
   "cell_type": "code",
   "execution_count": null,
   "id": "547e8013",
   "metadata": {},
   "outputs": [],
   "source": [
    "def main():\n",
    "    option = int(input(\"Choose an option:\\n1. Calculate GPA for the current semester\\n2. Calculate GPA over multiple semesters\\n\"))\n",
    "\n",
    "    if option == 1:\n",
    "        calculate_current_semester_gpa()\n",
    "    elif option == 2:\n",
    "        calculate_total_semesters_gpa()\n",
    "    else:\n",
    "        print(\"Invalid option. Please choose 1 or 2.\")\n",
    "\n",
    "if __name__ == \"__main__\":\n",
    "    main()"
   ]
  }
 ],
 "metadata": {
  "kernelspec": {
   "display_name": "Python 3 (ipykernel)",
   "language": "python",
   "name": "python3"
  },
  "language_info": {
   "codemirror_mode": {
    "name": "ipython",
    "version": 3
   },
   "file_extension": ".py",
   "mimetype": "text/x-python",
   "name": "python",
   "nbconvert_exporter": "python",
   "pygments_lexer": "ipython3",
   "version": "3.9.7"
  }
 },
 "nbformat": 4,
 "nbformat_minor": 5
}
